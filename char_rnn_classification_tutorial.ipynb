{
  "nbformat": 4,
  "nbformat_minor": 0,
  "metadata": {
    "kernelspec": {
      "display_name": "Python 3",
      "language": "python",
      "name": "python3"
    },
    "language_info": {
      "codemirror_mode": {
        "name": "ipython",
        "version": 3
      },
      "file_extension": ".py",
      "mimetype": "text/x-python",
      "name": "python",
      "nbconvert_exporter": "python",
      "pygments_lexer": "ipython3",
      "version": "3.5.2"
    },
    "colab": {
      "name": "char_rnn_classification_tutorial.ipynb",
      "provenance": [],
      "collapsed_sections": [],
      "toc_visible": true
    },
    "accelerator": "GPU"
  },
  "cells": [
    {
      "cell_type": "code",
      "metadata": {
        "id": "t8TPPrJS4TnJ",
        "colab_type": "code",
        "outputId": "11c500a4-8871-4dcf-c73f-0e97d4609757",
        "colab": {
          "base_uri": "https://localhost:8080/",
          "height": 34
        }
      },
      "source": [
        "!git clone https://github.com/nauyan/Deep-Learning-Assignment-4"
      ],
      "execution_count": 1,
      "outputs": [
        {
          "output_type": "stream",
          "text": [
            "fatal: destination path 'Deep-Learning-Assignment-4' already exists and is not an empty directory.\n"
          ],
          "name": "stdout"
        }
      ]
    },
    {
      "cell_type": "code",
      "metadata": {
        "id": "2pbcFQ7fuJBJ",
        "colab_type": "code",
        "colab": {}
      },
      "source": [
        "%matplotlib inline\n",
        "import zipfile\n",
        "path_to_zip_file = \"Deep-Learning-Assignment-4/names-20200514T160104Z-001.zip\"\n",
        "with zipfile.ZipFile(path_to_zip_file, 'r') as zip_ref:\n",
        "    zip_ref.extractall(\"./\")"
      ],
      "execution_count": 0,
      "outputs": []
    },
    {
      "cell_type": "markdown",
      "metadata": {
        "id": "AErjXmiIuJBR",
        "colab_type": "text"
      },
      "source": [
        "\n",
        "NLP From Scratch: Classifying Names with a Character-Level RNN\n",
        "**************************************************************\n",
        "**Author**: `Sean Robertson <https://github.com/spro/practical-pytorch>`_\n",
        "\n",
        "We will be building and training a basic character-level RNN to classify\n",
        "words. This tutorial, along with the following two, show how to do\n",
        "preprocess data for NLP modeling \"from scratch\", in particular not using\n",
        "many of the convenience functions of `torchtext`, so you can see how\n",
        "preprocessing for NLP modeling works at a low level.\n",
        "\n",
        "A character-level RNN reads words as a series of characters -\n",
        "outputting a prediction and \"hidden state\" at each step, feeding its\n",
        "previous hidden state into each next step. We take the final prediction\n",
        "to be the output, i.e. which class the word belongs to.\n",
        "\n",
        "Specifically, we'll train on a few thousand surnames from 18 languages\n",
        "of origin, and predict which language a name is from based on the\n",
        "spelling:\n",
        "\n",
        "::\n",
        "\n",
        "    $ python predict.py Hinton\n",
        "    (-0.47) Scottish\n",
        "    (-1.52) English\n",
        "    (-3.57) Irish\n",
        "\n",
        "    $ python predict.py Schmidhuber\n",
        "    (-0.19) German\n",
        "    (-2.48) Czech\n",
        "    (-2.68) Dutch\n",
        "\n",
        "\n",
        "**Recommended Reading:**\n",
        "\n",
        "I assume you have at least installed PyTorch, know Python, and\n",
        "understand Tensors:\n",
        "\n",
        "-  https://pytorch.org/ For installation instructions\n",
        "-  :doc:`/beginner/deep_learning_60min_blitz` to get started with PyTorch in general\n",
        "-  :doc:`/beginner/pytorch_with_examples` for a wide and deep overview\n",
        "-  :doc:`/beginner/former_torchies_tutorial` if you are former Lua Torch user\n",
        "\n",
        "It would also be useful to know about RNNs and how they work:\n",
        "\n",
        "-  `The Unreasonable Effectiveness of Recurrent Neural\n",
        "   Networks <https://karpathy.github.io/2015/05/21/rnn-effectiveness/>`__\n",
        "   shows a bunch of real life examples\n",
        "-  `Understanding LSTM\n",
        "   Networks <https://colah.github.io/posts/2015-08-Understanding-LSTMs/>`__\n",
        "   is about LSTMs specifically but also informative about RNNs in\n",
        "   general\n",
        "\n",
        "Preparing the Data\n",
        "==================\n",
        "\n",
        ".. Note::\n",
        "   Download the data from\n",
        "   `here <https://download.pytorch.org/tutorial/data.zip>`_\n",
        "   and extract it to the current directory.\n",
        "\n",
        "Included in the ``data/names`` directory are 18 text files named as\n",
        "\"[Language].txt\". Each file contains a bunch of names, one name per\n",
        "line, mostly romanized (but we still need to convert from Unicode to\n",
        "ASCII).\n",
        "\n",
        "We'll end up with a dictionary of lists of names per language,\n",
        "``{language: [names ...]}``. The generic variables \"category\" and \"line\"\n",
        "(for language and name in our case) are used for later extensibility.\n",
        "\n"
      ]
    },
    {
      "cell_type": "code",
      "metadata": {
        "id": "sMOKzFGpuJBS",
        "colab_type": "code",
        "outputId": "8bbd786c-ec27-4d92-d6f9-a2c472b63d8f",
        "colab": {
          "base_uri": "https://localhost:8080/",
          "height": 51
        }
      },
      "source": [
        "from __future__ import unicode_literals, print_function, division\n",
        "from io import open\n",
        "import glob\n",
        "import os\n",
        "\n",
        "def findFiles(path): return glob.glob(path)\n",
        "\n",
        "#print(findFiles('data/names/*.txt'))\n",
        "\n",
        "import unicodedata\n",
        "import string\n",
        "\n",
        "all_letters = string.ascii_letters + \" .,;'\"\n",
        "n_letters = len(all_letters)\n",
        "\n",
        "# Turn a Unicode string to plain ASCII, thanks to https://stackoverflow.com/a/518232/2809427\n",
        "def unicodeToAscii(s):\n",
        "    return ''.join(\n",
        "        c for c in unicodedata.normalize('NFD', s)\n",
        "        if unicodedata.category(c) != 'Mn'\n",
        "        and c in all_letters\n",
        "    )\n",
        "\n",
        "print(unicodeToAscii('Ślusàrski'))\n",
        "\n",
        "# Build the category_lines dictionary, a list of names per language\n",
        "category_lines = {}\n",
        "all_categories = []\n",
        "\n",
        "# Read a file and split into lines\n",
        "def readLines(filename):\n",
        "    lines = open(filename, encoding='utf-8').read().strip().split('\\n')\n",
        "    return [unicodeToAscii(line) for line in lines]\n",
        "\n",
        "#for filename in findFiles('names/*.txt'):\n",
        "for filename in findFiles('names/*.txt'):\n",
        "    category = os.path.splitext(os.path.basename(filename))[0]\n",
        "    all_categories.append(category)\n",
        "    lines = readLines(filename)\n",
        "    category_lines[category] = lines\n",
        "\n",
        "n_categories = len(all_categories)\n",
        "print(n_categories)"
      ],
      "execution_count": 3,
      "outputs": [
        {
          "output_type": "stream",
          "text": [
            "Slusarski\n",
            "19\n"
          ],
          "name": "stdout"
        }
      ]
    },
    {
      "cell_type": "markdown",
      "metadata": {
        "id": "ZVFNZeVwuJBX",
        "colab_type": "text"
      },
      "source": [
        "Now we have ``category_lines``, a dictionary mapping each category\n",
        "(language) to a list of lines (names). We also kept track of\n",
        "``all_categories`` (just a list of languages) and ``n_categories`` for\n",
        "later reference.\n",
        "\n",
        "\n"
      ]
    },
    {
      "cell_type": "code",
      "metadata": {
        "id": "ZGHsbyzZuJBY",
        "colab_type": "code",
        "outputId": "9a299bcc-4d71-41f7-fb4d-4ce6f3e08b70",
        "colab": {
          "base_uri": "https://localhost:8080/",
          "height": 340
        }
      },
      "source": [
        "#print(len(category_lines['Italian']), n_categories)\n",
        "for cat in all_categories:\n",
        "    print(cat, ':', len(category_lines[cat]), category_lines[cat][:5])"
      ],
      "execution_count": 4,
      "outputs": [
        {
          "output_type": "stream",
          "text": [
            "Indian : 29048 ['Barjraj', 'Ramdin', 'Sharat', 'Birender', 'Amit']\n",
            "Arabic : 2000 ['Khoury', 'Nahas', 'Daher', 'Gerges', 'Nazari']\n",
            "Russian : 9408 ['Ababko', 'Abaev', 'Abagyan', 'Abaidulin', 'Abaidullin']\n",
            "German : 724 ['Abbing', 'Abel', 'Abeln', 'Abt', 'Achilles']\n",
            "Vietnamese : 73 ['Nguyen', 'Tron', 'Le', 'Pham', 'Huynh']\n",
            "Czech : 519 ['Abl', 'Adsit', 'Ajdrna', 'Alt', 'Antonowitsch']\n",
            "Portuguese : 74 ['Abreu', 'Albuquerque', 'Almeida', 'Alves', 'Araujo']\n",
            "Chinese : 268 ['Ang', 'AuYong', 'Bai', 'Ban', 'Bao']\n",
            "Dutch : 297 ['Aalsburg', 'Aalst', 'Aarle', 'Achteren', 'Achthoven']\n",
            "Spanish : 298 ['Abana', 'Abano', 'Abarca', 'Abaroa', 'Abascal']\n",
            "Italian : 709 ['Abandonato', 'Abatangelo', 'Abatantuono', 'Abate', 'Abategiovanni']\n",
            "Polish : 139 ['Adamczak', 'Adamczyk', 'Andrysiak', 'Auttenberg', 'Bartosz']\n",
            "Greek : 203 ['Adamidis', 'Adamou', 'Agelakos', 'Akrivopoulos', 'Alexandropoulos']\n",
            "Japanese : 991 ['Abe', 'Abukara', 'Adachi', 'Aida', 'Aihara']\n",
            "Irish : 232 ['Adam', 'Ahearn', 'Aodh', 'Aodha', 'Aonghuis']\n",
            "English : 3668 ['Abbas', 'Abbey', 'Abbott', 'Abdi', 'Abel']\n",
            "Korean : 94 ['Ahn', 'Baik', 'Bang', 'Byon', 'Cha']\n",
            "Scottish : 100 ['Smith', 'Brown', 'Wilson', 'Campbell', 'Stewart']\n",
            "French : 277 ['Abel', 'Abraham', 'Adam', 'Albert', 'Allard']\n"
          ],
          "name": "stdout"
        }
      ]
    },
    {
      "cell_type": "markdown",
      "metadata": {
        "id": "wPcz3Bf1uJBc",
        "colab_type": "text"
      },
      "source": [
        "Turning Names into Tensors\n",
        "--------------------------\n",
        "\n",
        "Now that we have all the names organized, we need to turn them into\n",
        "Tensors to make any use of them.\n",
        "\n",
        "To represent a single letter, we use a \"one-hot vector\" of size\n",
        "``<1 x n_letters>``. A one-hot vector is filled with 0s except for a 1\n",
        "at index of the current letter, e.g. ``\"b\" = <0 1 0 0 0 ...>``.\n",
        "\n",
        "To make a word we join a bunch of those into a 2D matrix\n",
        "``<line_length x 1 x n_letters>``.\n",
        "\n",
        "That extra 1 dimension is because PyTorch assumes everything is in\n",
        "batches - we're just using a batch size of 1 here.\n",
        "\n",
        "\n"
      ]
    },
    {
      "cell_type": "code",
      "metadata": {
        "id": "3MGYXWonuJBc",
        "colab_type": "code",
        "outputId": "8f65a4a6-5446-4595-b6b3-c0b799d452b0",
        "colab": {
          "base_uri": "https://localhost:8080/",
          "height": 102
        }
      },
      "source": [
        "import torch\n",
        "\n",
        "# Find letter index from all_letters, e.g. \"a\" = 0\n",
        "def letterToIndex(letter):\n",
        "    return all_letters.find(letter)\n",
        "\n",
        "# Just for demonstration, turn a letter into a <1 x n_letters> Tensor\n",
        "def letterToTensor(letter):\n",
        "    tensor = torch.zeros(1, n_letters)\n",
        "    tensor[0][letterToIndex(letter)] = 1\n",
        "    return tensor\n",
        "\n",
        "# Turn a line into a <line_length x 1 x n_letters>,\n",
        "# or an array of one-hot letter vectors\n",
        "def lineToTensor(line):\n",
        "    tensor = torch.zeros(len(line), 1, n_letters)\n",
        "    for li, letter in enumerate(line):\n",
        "        tensor[li][0][letterToIndex(letter)] = 1\n",
        "    return tensor\n",
        "\n",
        "print(letterToTensor('J'))\n",
        "\n",
        "print(lineToTensor('Jones').size())"
      ],
      "execution_count": 5,
      "outputs": [
        {
          "output_type": "stream",
          "text": [
            "tensor([[0., 0., 0., 0., 0., 0., 0., 0., 0., 0., 0., 0., 0., 0., 0., 0., 0., 0.,\n",
            "         0., 0., 0., 0., 0., 0., 0., 0., 0., 0., 0., 0., 0., 0., 0., 0., 0., 1.,\n",
            "         0., 0., 0., 0., 0., 0., 0., 0., 0., 0., 0., 0., 0., 0., 0., 0., 0., 0.,\n",
            "         0., 0., 0.]])\n",
            "torch.Size([5, 1, 57])\n"
          ],
          "name": "stdout"
        }
      ]
    },
    {
      "cell_type": "markdown",
      "metadata": {
        "id": "iiPhp6aduJBh",
        "colab_type": "text"
      },
      "source": [
        "Creating the Network\n",
        "====================\n",
        "\n",
        "Before autograd, creating a recurrent neural network in Torch involved\n",
        "cloning the parameters of a layer over several timesteps. The layers\n",
        "held hidden state and gradients which are now entirely handled by the\n",
        "graph itself. This means you can implement a RNN in a very \"pure\" way,\n",
        "as regular feed-forward layers.\n",
        "\n",
        "This RNN module (mostly copied from `the PyTorch for Torch users\n",
        "tutorial <https://pytorch.org/tutorials/beginner/former_torchies/\n",
        "nn_tutorial.html#example-2-recurrent-net>`__)\n",
        "is just 2 linear layers which operate on an input and hidden state, with\n",
        "a LogSoftmax layer after the output.\n",
        "\n",
        "![](rnn.png)\n"
      ]
    },
    {
      "cell_type": "code",
      "metadata": {
        "id": "6HfSj2O5uJBi",
        "colab_type": "code",
        "colab": {}
      },
      "source": [
        "import torch.nn as nn\n",
        "\n",
        "class RNN(nn.Module):\n",
        "    def __init__(self, input_size, hidden_size, output_size):\n",
        "        super(RNN, self).__init__()\n",
        "\n",
        "        self.hidden_size = hidden_size\n",
        "\n",
        "        self.i2h = nn.Linear(input_size + hidden_size, hidden_size)\n",
        "        self.i2o = nn.Linear(input_size + hidden_size, output_size)\n",
        "        self.softmax = nn.LogSoftmax(dim=1)\n",
        "\n",
        "    def forward(self, input, hidden):\n",
        "        combined = torch.cat((input, hidden), 1)\n",
        "        hidden = self.i2h(combined)\n",
        "        output = self.i2o(combined)\n",
        "        output = self.softmax(output)\n",
        "        return output, hidden\n",
        "\n",
        "    def initHidden(self):\n",
        "        return torch.zeros(1, self.hidden_size)\n",
        "\n",
        "n_hidden = 128\n",
        "rnn = RNN(n_letters, n_hidden, n_categories)"
      ],
      "execution_count": 0,
      "outputs": []
    },
    {
      "cell_type": "markdown",
      "metadata": {
        "id": "rCqiaUCIuJBl",
        "colab_type": "text"
      },
      "source": [
        "To run a step of this network we need to pass an input (in our case, the\n",
        "Tensor for the current letter) and a previous hidden state (which we\n",
        "initialize as zeros at first). We'll get back the output (probability of\n",
        "each language) and a next hidden state (which we keep for the next\n",
        "step).\n",
        "\n",
        "\n"
      ]
    },
    {
      "cell_type": "code",
      "metadata": {
        "id": "fyq_fbn-uJBm",
        "colab_type": "code",
        "colab": {}
      },
      "source": [
        "input = letterToTensor('A')\n",
        "hidden =torch.zeros(1, n_hidden)\n",
        "\n",
        "output, next_hidden = rnn(input, hidden)"
      ],
      "execution_count": 0,
      "outputs": []
    },
    {
      "cell_type": "markdown",
      "metadata": {
        "id": "hLFdZSeauJBq",
        "colab_type": "text"
      },
      "source": [
        "For the sake of efficiency we don't want to be creating a new Tensor for\n",
        "every step, so we will use ``lineToTensor`` instead of\n",
        "``letterToTensor`` and use slices. This could be further optimized by\n",
        "pre-computing batches of Tensors.\n",
        "\n",
        "\n"
      ]
    },
    {
      "cell_type": "code",
      "metadata": {
        "id": "PHLwKhssuJBq",
        "colab_type": "code",
        "outputId": "d66fc9e0-2542-41d1-9df9-13b51c63b205",
        "colab": {
          "base_uri": "https://localhost:8080/",
          "height": 68
        }
      },
      "source": [
        "input = lineToTensor('Albert')\n",
        "hidden = torch.zeros(1, n_hidden)\n",
        "\n",
        "output, next_hidden = rnn(input[0], hidden)\n",
        "print(output)"
      ],
      "execution_count": 8,
      "outputs": [
        {
          "output_type": "stream",
          "text": [
            "tensor([[-2.8891, -2.9305, -2.9264, -2.9351, -2.9835, -3.0299, -3.0022, -2.9130,\n",
            "         -2.8540, -3.0732, -2.8624, -2.9168, -3.0210, -3.0054, -2.9318, -2.9202,\n",
            "         -2.9585, -2.9169, -2.9050]], grad_fn=<LogSoftmaxBackward>)\n"
          ],
          "name": "stdout"
        }
      ]
    },
    {
      "cell_type": "markdown",
      "metadata": {
        "id": "DTOx2RakuJBu",
        "colab_type": "text"
      },
      "source": [
        "As you can see the output is a ``<1 x n_categories>`` Tensor, where\n",
        "every item is the likelihood of that category (higher is more likely).\n",
        "\n",
        "\n"
      ]
    },
    {
      "cell_type": "markdown",
      "metadata": {
        "id": "uBFwJ0jEuJBv",
        "colab_type": "text"
      },
      "source": [
        "Training\n",
        "========\n",
        "Preparing for Training\n",
        "----------------------\n",
        "\n",
        "Before going into training we should make a few helper functions. The\n",
        "first is to interpret the output of the network, which we know to be a\n",
        "likelihood of each category. We can use ``Tensor.topk`` to get the index\n",
        "of the greatest value:\n",
        "\n",
        "\n"
      ]
    },
    {
      "cell_type": "code",
      "metadata": {
        "id": "vynl7ws2uJBw",
        "colab_type": "code",
        "outputId": "4b1f671e-4fb0-4a2a-9971-e35bcd94b9fc",
        "colab": {
          "base_uri": "https://localhost:8080/",
          "height": 34
        }
      },
      "source": [
        "def categoryFromOutput(output):\n",
        "    top_n, top_i = output.topk(1)\n",
        "    category_i = top_i[0].item()\n",
        "    return all_categories[category_i], category_i\n",
        "\n",
        "print(categoryFromOutput(output))"
      ],
      "execution_count": 9,
      "outputs": [
        {
          "output_type": "stream",
          "text": [
            "('Dutch', 8)\n"
          ],
          "name": "stdout"
        }
      ]
    },
    {
      "cell_type": "markdown",
      "metadata": {
        "id": "qxYjaEmfuJB0",
        "colab_type": "text"
      },
      "source": [
        "We will also want a quick way to get a training example (a name and its\n",
        "language):\n",
        "\n",
        "\n"
      ]
    },
    {
      "cell_type": "code",
      "metadata": {
        "id": "9zTERg3luJB1",
        "colab_type": "code",
        "outputId": "d6fb22ff-358d-438f-a08a-0508b7776cff",
        "colab": {
          "base_uri": "https://localhost:8080/",
          "height": 187
        }
      },
      "source": [
        "import random\n",
        "\n",
        "def randomChoice(l):\n",
        "    return l[random.randint(0, len(l) - 1)]\n",
        "\n",
        "def randomTrainingExample():\n",
        "    category = randomChoice(all_categories)\n",
        "    line = randomChoice(category_lines[category])\n",
        "    category_tensor = torch.tensor([all_categories.index(category)], dtype=torch.long)\n",
        "    line_tensor = lineToTensor(line)\n",
        "    return category, line, category_tensor, line_tensor\n",
        "\n",
        "for i in range(10):\n",
        "    category, line, category_tensor, line_tensor = randomTrainingExample()\n",
        "    print('category =', category, '/ line =', line, category_tensor.shape, line_tensor.shape)"
      ],
      "execution_count": 10,
      "outputs": [
        {
          "output_type": "stream",
          "text": [
            "category = Japanese / line = Kitamura torch.Size([1]) torch.Size([8, 1, 57])\n",
            "category = Japanese / line = Hayami torch.Size([1]) torch.Size([6, 1, 57])\n",
            "category = Chinese / line = Mak torch.Size([1]) torch.Size([3, 1, 57])\n",
            "category = Polish / line = Nosek torch.Size([1]) torch.Size([5, 1, 57])\n",
            "category = Polish / line = Stanek torch.Size([1]) torch.Size([6, 1, 57])\n",
            "category = English / line = Macgregor torch.Size([1]) torch.Size([9, 1, 57])\n",
            "category = Dutch / line = Schoonraad torch.Size([1]) torch.Size([10, 1, 57])\n",
            "category = Japanese / line = Ishibashi torch.Size([1]) torch.Size([9, 1, 57])\n",
            "category = English / line = Kinnaird torch.Size([1]) torch.Size([8, 1, 57])\n",
            "category = Spanish / line = Cardona torch.Size([1]) torch.Size([7, 1, 57])\n"
          ],
          "name": "stdout"
        }
      ]
    },
    {
      "cell_type": "markdown",
      "metadata": {
        "id": "BqUbJr6yuJB4",
        "colab_type": "text"
      },
      "source": [
        "Training the Network\n",
        "--------------------\n",
        "\n",
        "Now all it takes to train this network is show it a bunch of examples,\n",
        "have it make guesses, and tell it if it's wrong.\n",
        "\n",
        "For the loss function ``nn.NLLLoss`` is appropriate, since the last\n",
        "layer of the RNN is ``nn.LogSoftmax``.\n",
        "\n",
        "\n"
      ]
    },
    {
      "cell_type": "code",
      "metadata": {
        "id": "Qj-y-JqfuJB5",
        "colab_type": "code",
        "colab": {}
      },
      "source": [
        "criterion = nn.NLLLoss()"
      ],
      "execution_count": 0,
      "outputs": []
    },
    {
      "cell_type": "markdown",
      "metadata": {
        "id": "zYgH136iuJB9",
        "colab_type": "text"
      },
      "source": [
        "Each loop of training will:\n",
        "\n",
        "-  Create input and target tensors\n",
        "-  Create a zeroed initial hidden state\n",
        "-  Read each letter in and\n",
        "\n",
        "   -  Keep hidden state for next letter\n",
        "\n",
        "-  Compare final output to target\n",
        "-  Back-propagate\n",
        "-  Return the output and loss\n",
        "\n",
        "\n"
      ]
    },
    {
      "cell_type": "code",
      "metadata": {
        "id": "ujauwqetuJB-",
        "colab_type": "code",
        "colab": {}
      },
      "source": [
        "learning_rate = 0.005 # If you set this too high, it might explode. If too low, it might not learn\n",
        "\n",
        "def train(category_tensor, line_tensor):\n",
        "    hidden = rnn.initHidden()\n",
        "\n",
        "    rnn.zero_grad()\n",
        "\n",
        "    for i in range(line_tensor.size()[0]):\n",
        "        output, hidden = rnn(line_tensor[i], hidden)\n",
        "\n",
        "    loss = criterion(output, category_tensor)\n",
        "    loss.backward()\n",
        "\n",
        "    # Add parameters' gradients to their values, multiplied by learning rate\n",
        "    for p in rnn.parameters():\n",
        "        p.data.add_(-learning_rate, p.grad.data)\n",
        "\n",
        "    return output, loss.item()"
      ],
      "execution_count": 0,
      "outputs": []
    },
    {
      "cell_type": "markdown",
      "metadata": {
        "id": "4DiZdJQBuJCC",
        "colab_type": "text"
      },
      "source": [
        "Now we just have to run that with a bunch of examples. Since the\n",
        "``train`` function returns both the output and loss we can print its\n",
        "guesses and also keep track of loss for plotting. Since there are 1000s\n",
        "of examples we print only every ``print_every`` examples, and take an\n",
        "average of the loss.\n",
        "\n",
        "\n"
      ]
    },
    {
      "cell_type": "code",
      "metadata": {
        "id": "Y6r5_gcEuJCC",
        "colab_type": "code",
        "outputId": "b4d8b9bd-80a4-4476-871c-ef60fa1fa255",
        "colab": {
          "base_uri": "https://localhost:8080/",
          "height": 1000
        }
      },
      "source": [
        "import time\n",
        "import math\n",
        "\n",
        "n_iters = 1000000\n",
        "print_every = 5000\n",
        "plot_every = 1000\n",
        "\n",
        "\n",
        "\n",
        "# Keep track of losses for plotting\n",
        "current_loss = 0\n",
        "all_losses = []\n",
        "\n",
        "def timeSince(since):\n",
        "    now = time.time()\n",
        "    s = now - since\n",
        "    m = math.floor(s / 60)\n",
        "    s -= m * 60\n",
        "    return '%dm %ds' % (m, s)\n",
        "\n",
        "start = time.time()\n",
        "\n",
        "for iter in range(1, n_iters + 1):\n",
        "    category, line, category_tensor, line_tensor = randomTrainingExample()\n",
        "    #print(line)\n",
        "    try:\n",
        "      output, loss = train(category_tensor, line_tensor)\n",
        "      current_loss += loss\n",
        "    except:\n",
        "      print(line)\n",
        "      continue\n",
        "\n",
        "    # Print iter number, loss, name and guess\n",
        "    if iter % print_every == 0:\n",
        "        guess, guess_i = categoryFromOutput(output)\n",
        "        correct = '✓' if guess == category else '✗ (%s)' % category\n",
        "        print('%d %d%% (%s) %.4f %s / %s %s' % (iter, iter / n_iters * 100, timeSince(start), loss, line, guess, correct))\n",
        "\n",
        "    # Add current loss avg to list of losses\n",
        "    if iter % plot_every == 0:\n",
        "        all_losses.append(current_loss / plot_every)\n",
        "        current_loss = 0"
      ],
      "execution_count": 13,
      "outputs": [
        {
          "output_type": "stream",
          "text": [
            "/pytorch/torch/csrc/utils/python_arg_parser.cpp:756: UserWarning: This overload of add_ is deprecated:\n",
            "\tadd_(Number alpha, Tensor other)\n",
            "Consider using one of the following signatures instead:\n",
            "\tadd_(Tensor other, *, Number alpha)\n"
          ],
          "name": "stderr"
        },
        {
          "output_type": "stream",
          "text": [
            "5000 0% (0m 9s) 3.0854 Cheung / Japanese ✗ (Chinese)\n",
            "10000 1% (0m 18s) 2.0696 Bakinoff / Japanese ✗ (Russian)\n",
            "15000 1% (0m 28s) 1.3121 Shuai / Chinese ✓\n",
            "20000 2% (0m 37s) 1.9523 Valerio / Portuguese ✗ (Italian)\n",
            "25000 2% (0m 47s) 0.1421 Gianakopulos / Greek ✓\n",
            "30000 3% (0m 56s) 1.0299 Pho / Vietnamese ✓\n",
            "35000 3% (1m 6s) 1.6457 Mateus / Arabic ✗ (Portuguese)\n",
            "40000 4% (1m 15s) 0.8952 Bilias / Greek ✓\n",
            "45000 4% (1m 25s) 0.3549 Huynh / Vietnamese ✓\n",
            "50000 5% (1m 34s) 0.5826 Quan / Chinese ✓\n",
            "55000 5% (1m 44s) 0.8344 Alcheri / Italian ✓\n",
            "60000 6% (1m 53s) 1.0272 Klerken / Dutch ✓\n",
            "65000 6% (2m 3s) 0.1348 Brzezicki / Polish ✓\n",
            "70000 7% (2m 12s) 0.9950 Wagner / German ✓\n",
            "75000 7% (2m 22s) 0.4238 Bagnoli / Italian ✓\n",
            "80000 8% (2m 31s) 0.7688 Schreck / German ✓\n",
            "85000 8% (2m 41s) 1.5150 Sapojinsky / Polish ✗ (Russian)\n",
            "90000 9% (2m 50s) 0.3715 Crawford / Scottish ✓\n",
            "95000 9% (3m 0s) 2.1386 Chalupka / Irish ✗ (Czech)\n",
            "100000 10% (3m 9s) 1.5050 Sutherland / English ✗ (Scottish)\n",
            "105000 10% (3m 18s) 3.4390 Lee / Chinese ✗ (Korean)\n",
            "110000 11% (3m 28s) 0.4018 Savita / Indian ✓\n",
            "115000 11% (3m 37s) 5.6762 Kumiega / Japanese ✗ (Polish)\n",
            "120000 12% (3m 46s) 1.1720 Kremlacek / Dutch ✗ (Czech)\n",
            "125000 12% (3m 56s) 1.1169 Nicastro / Portuguese ✗ (Italian)\n",
            "130000 13% (4m 5s) 0.8489 Gaber / Arabic ✓\n",
            "135000 13% (4m 14s) 0.1375 Yim / Korean ✓\n",
            "140000 14% (4m 23s) 0.1632 Takahashi / Japanese ✓\n",
            "145000 14% (4m 33s) 1.7855 Kidd / Polish ✗ (English)\n",
            "150000 15% (4m 42s) 1.7217 Jez / Chinese ✗ (Polish)\n",
            "155000 15% (4m 51s) 0.3436 An / Vietnamese ✓\n",
            "160000 16% (5m 1s) 3.0030 Openshaw / Czech ✗ (English)\n",
            "165000 16% (5m 10s) 0.6461 Cho / Korean ✓\n",
            "170000 17% (5m 19s) 0.2459 Zhu / Chinese ✓\n",
            "175000 17% (5m 28s) 0.4802 Sommer / German ✓\n",
            "180000 18% (5m 38s) 1.1244 Klerks / Dutch ✓\n",
            "185000 18% (5m 47s) 0.6885 Uhlik / Czech ✓\n",
            "190000 19% (5m 56s) 0.4287 Soldati / Italian ✓\n",
            "195000 19% (6m 5s) 0.5815 Tighearnach / Irish ✓\n",
            "200000 20% (6m 15s) 1.8577 Ventura / Spanish ✗ (Portuguese)\n",
            "205000 20% (6m 23s) 0.1919 Youn / Korean ✓\n",
            "210000 21% (6m 33s) 0.3225 Dubensky / Russian ✓\n",
            "215000 21% (6m 42s) 0.5347 Lambert / French ✓\n",
            "220000 22% (6m 51s) 1.8583 Azzara / Japanese ✗ (Italian)\n",
            "225000 22% (7m 0s) 0.3570 Inukai / Japanese ✓\n",
            "230000 23% (7m 9s) 1.6628 Reilly / English ✗ (Irish)\n",
            "235000 23% (7m 19s) 0.3931 Moon / Korean ✓\n",
            "240000 24% (7m 28s) 2.8929 Modegi / Italian ✗ (Japanese)\n",
            "245000 24% (7m 37s) 1.3177 Wykruta / Japanese ✗ (Czech)\n",
            "250000 25% (7m 46s) 2.8370 Ventura / Portuguese ✗ (Spanish)\n",
            "255000 25% (7m 54s) 1.8783 Marquering / Italian ✗ (Dutch)\n",
            "260000 26% (8m 3s) 0.1297 Sienkiewicz / Polish ✓\n",
            "265000 26% (8m 12s) 0.0966 Yamaoka / Japanese ✓\n",
            "270000 27% (8m 21s) 0.8456 Novak / Czech ✓\n",
            "275000 27% (8m 30s) 0.3804 Phan / Vietnamese ✓\n",
            "280000 28% (8m 39s) 1.2709 Fairclough / Italian ✗ (English)\n",
            "285000 28% (8m 49s) 0.0396 Poletti / Italian ✓\n",
            "290000 28% (8m 58s) 0.1119 Paszek / Polish ✓\n",
            "295000 29% (9m 8s) 0.6759 Phan / Vietnamese ✓\n",
            "300000 30% (9m 16s) 0.9355 Lim  / Korean ✓\n",
            "305000 30% (9m 25s) 0.7591 Bernard / French ✓\n",
            "310000 31% (9m 34s) 1.8019 Pahlke / Czech ✗ (German)\n",
            "315000 31% (9m 43s) 0.0855 Bagni / Italian ✓\n",
            "320000 32% (9m 52s) 0.4272 Ramires / Portuguese ✓\n",
            "325000 32% (10m 1s) 0.6160 Nicchi / Italian ✓\n",
            "330000 33% (10m 11s) 0.0070 Mikhalychev / Russian ✓\n",
            "335000 33% (10m 20s) 1.0386 Gaber / Arabic ✓\n",
            "340000 34% (10m 29s) 0.3017 Varaksin / Russian ✓\n",
            "345000 34% (10m 38s) 0.7060 Soga / Japanese ✓\n",
            "350000 35% (10m 47s) 0.0008 Vassilopulos / Greek ✓\n",
            "355000 35% (10m 56s) 2.3723 Pinky / Russian ✗ (Indian)\n",
            "360000 36% (11m 5s) 0.6056 Young / Scottish ✓\n",
            "365000 36% (11m 14s) 1.2116 Karahalios / French ✗ (Greek)\n",
            "370000 37% (11m 23s) 1.1614 Haddad / Arabic ✓\n",
            "375000 37% (11m 32s) 1.5637 Devin / Russian ✗ (Irish)\n",
            "380000 38% (11m 41s) 0.7579 Hiu / Chinese ✓\n",
            "385000 38% (11m 50s) 1.6428 Gottlieb / Russian ✗ (German)\n",
            "390000 39% (11m 58s) 0.5905 Lobo / Portuguese ✓\n",
            "395000 39% (12m 7s) 0.3237 Sabbag / Arabic ✓\n",
            "400000 40% (12m 16s) 3.0236 Martin / French ✗ (Scottish)\n",
            "405000 40% (12m 25s) 0.1738 Thach / Vietnamese ✓\n",
            "410000 41% (12m 35s) 0.0569 Adamczyk / Polish ✓\n",
            "415000 41% (12m 44s) 0.8136 Garber / German ✓\n",
            "420000 42% (12m 53s) 0.5175 Kawatake / Japanese ✓\n",
            "425000 42% (13m 2s) 1.3200 Taira / Arabic ✗ (Japanese)\n",
            "430000 43% (13m 11s) 0.0150 Baiseitov / Russian ✓\n",
            "435000 43% (13m 20s) 0.1246 Yim / Korean ✓\n",
            "440000 44% (13m 29s) 3.6540 See / Korean ✗ (Dutch)\n",
            "445000 44% (13m 38s) 1.1063 Yablonsky / Russian ✓\n",
            "450000 45% (13m 47s) 0.8714 Neri / Italian ✓\n",
            "455000 45% (13m 56s) 0.1953 Kobi / Japanese ✓\n",
            "460000 46% (14m 4s) 1.5493 Nilu / French ✗ (Indian)\n",
            "465000 46% (14m 13s) 0.5037 Makhnenko / Russian ✓\n",
            "470000 47% (14m 22s) 0.8230 Radha / Indian ✓\n",
            "475000 47% (14m 31s) 0.0680 Attia / Arabic ✓\n",
            "480000 48% (14m 40s) 0.0081 Sugiyama / Japanese ✓\n",
            "485000 48% (14m 49s) 0.6776 Le / Vietnamese ✓\n",
            "490000 49% (14m 58s) 0.2333 Kumagae / Japanese ✓\n",
            "495000 49% (15m 8s) 1.4571 Abgaryan / English ✗ (Russian)\n",
            "500000 50% (15m 17s) 0.0790 Metrofanis / Greek ✓\n",
            "505000 50% (15m 26s) 1.0237 Schorel / Dutch ✓\n",
            "510000 51% (15m 35s) 0.4708 Houten / Dutch ✓\n",
            "515000 51% (15m 45s) 1.6261 Adachi / Italian ✗ (Japanese)\n",
            "520000 52% (15m 53s) 0.1391 Raimondi / Italian ✓\n",
            "525000 52% (16m 2s) 1.3044 Kohl / German ✓\n",
            "530000 53% (16m 12s) 0.1160 Adamoli / Italian ✓\n",
            "535000 53% (16m 20s) 0.2691 Eng / Chinese ✓\n",
            "540000 54% (16m 29s) 0.7414 Ha / Vietnamese ✓\n",
            "545000 54% (16m 38s) 0.7643 Esteves / Portuguese ✓\n",
            "550000 55% (16m 47s) 0.4977 Iniguez / Spanish ✓\n",
            "555000 55% (16m 56s) 0.1476 Quraishi / Arabic ✓\n",
            "560000 56% (17m 5s) 0.0218 Nghiem / Vietnamese ✓\n",
            "565000 56% (17m 14s) 2.1130 Cuevas / Portuguese ✗ (Spanish)\n",
            "570000 56% (17m 23s) 0.0105 Ishikawa / Japanese ✓\n",
            "575000 57% (17m 32s) 0.0005 Juravkov / Russian ✓\n",
            "580000 57% (17m 41s) 3.6736 Duval / Indian ✗ (French)\n",
            "585000 58% (17m 50s) 0.2127 Rosario / Portuguese ✓\n",
            "590000 59% (17m 59s) 0.0610 Zhang / Chinese ✓\n",
            "595000 59% (18m 7s) 0.3503 Aldworth / English ✓\n",
            "600000 60% (18m 16s) 0.7041 Boer / German ✓\n",
            "605000 60% (18m 26s) 1.3926 Ang / Korean ✗ (Chinese)\n",
            "610000 61% (18m 34s) 0.9601 Smt / Indian ✓\n",
            "615000 61% (18m 43s) 3.2664 Monette / Dutch ✗ (French)\n",
            "620000 62% (18m 52s) 0.0505 Horoshavtsev / Russian ✓\n",
            "625000 62% (19m 0s) 1.0310 Stanzel / Polish ✗ (Czech)\n",
            "630000 63% (19m 9s) 3.0398 Buchta / Indian ✗ (Czech)\n",
            "635000 63% (19m 18s) 1.4433 Gallego / Portuguese ✗ (Spanish)\n",
            "640000 64% (19m 26s) 1.3228 Romero / Spanish ✗ (Italian)\n",
            "645000 64% (19m 35s) 1.5475 Cleirich / Scottish ✗ (Irish)\n",
            "650000 65% (19m 43s) 0.8166 Langbroek / Dutch ✓\n",
            "655000 65% (19m 52s) 0.0608 Jung  / Korean ✓\n",
            "660000 66% (20m 0s) 0.1561 Lindsay / Scottish ✓\n",
            "665000 66% (20m 9s) 1.0578 Vikram / Indian ✓\n",
            "670000 67% (20m 18s) 0.4963 Heena / Indian ✓\n",
            "675000 67% (20m 26s) 0.1820 Hwang / Korean ✓\n",
            "680000 68% (20m 36s) 0.9846 Dominguez / Spanish ✓\n",
            "685000 68% (20m 45s) 2.7572 Porsche / English ✗ (German)\n",
            "690000 69% (20m 53s) 2.6381 Weigand / Irish ✗ (German)\n",
            "695000 69% (21m 2s) 3.8172 Patrick / Polish ✗ (Irish)\n",
            "700000 70% (21m 10s) 3.9916 Antwerpen / German ✗ (Dutch)\n",
            "705000 70% (21m 19s) 0.9360 Salomon / French ✓\n",
            "710000 71% (21m 28s) 0.7550 Bello / Italian ✓\n",
            "715000 71% (21m 37s) 2.6598 Bonnet / German ✗ (French)\n",
            "720000 72% (21m 45s) 0.0968 Miyamae / Japanese ✓\n",
            "725000 72% (21m 54s) 8.1662 Kon / Korean ✗ (Japanese)\n",
            "730000 73% (22m 3s) 2.4894 Jelen / English ✗ (Polish)\n",
            "735000 73% (22m 12s) 1.0219 Hrula / Czech ✓\n",
            "740000 74% (22m 21s) 1.3638 Vinny / Indian ✗ (English)\n",
            "745000 74% (22m 29s) 4.5483 Shimon / Arabic ✗ (Japanese)\n",
            "750000 75% (22m 39s) 0.9814 Cheng / Korean ✗ (Chinese)\n",
            "755000 75% (22m 47s) 4.8731 Peters / Dutch ✗ (German)\n",
            "760000 76% (22m 56s) 1.0972 Pasternack / Polish ✓\n",
            "765000 76% (23m 5s) 0.4851 Como / Italian ✓\n",
            "770000 77% (23m 14s) 0.0156 O'Donnell / Irish ✓\n",
            "775000 77% (23m 23s) 0.0543 Zdunowski / Polish ✓\n",
            "780000 78% (23m 32s) 1.8284 Gottschalk / Czech ✗ (German)\n",
            "785000 78% (23m 41s) 2.2220 Thomson / Russian ✗ (Scottish)\n",
            "790000 79% (23m 49s) 0.7236 Louverdis / Greek ✓\n",
            "795000 79% (23m 58s) 0.8241 Bridges / English ✓\n",
            "800000 80% (24m 7s) 0.9839 Meeuwis / Dutch ✓\n",
            "805000 80% (24m 16s) 1.0856 Chin / Korean ✓\n",
            "810000 81% (24m 26s) 0.7535 Houtem / Dutch ✓\n",
            "815000 81% (24m 34s) 0.4382 Melo / Portuguese ✓\n",
            "\n",
            "820000 82% (24m 43s) 3.5282 Daal / Vietnamese ✗ (Dutch)\n",
            "825000 82% (24m 52s) 0.1788 Usenko / Russian ✓\n",
            "830000 83% (25m 0s) 0.4770 Chong / Chinese ✓\n",
            "835000 83% (25m 9s) 0.7680 Moreno / Spanish ✓\n",
            "840000 84% (25m 17s) 0.8056 Silje / Dutch ✓\n",
            "845000 84% (25m 27s) 2.8667 Ventura / Dutch ✗ (Spanish)\n",
            "850000 85% (25m 36s) 0.0678 Takaoka / Japanese ✓\n",
            "855000 85% (25m 45s) 0.2048 Totolos / Greek ✓\n",
            "860000 86% (25m 54s) 3.9165 Richard / Scottish ✗ (Dutch)\n",
            "865000 86% (26m 2s) 0.2114 Pefanis / Greek ✓\n",
            "870000 87% (26m 11s) 2.8859 Sweeting / German ✗ (English)\n",
            "875000 87% (26m 21s) 1.2797 Chevalier / Irish ✗ (French)\n",
            "880000 88% (26m 30s) 1.7969 Bosch / Scottish ✗ (German)\n",
            "885000 88% (26m 38s) 0.4090 O'Gorman / Irish ✓\n",
            "890000 89% (26m 47s) 3.9900 Maly / Scottish ✗ (Polish)\n",
            "895000 89% (26m 56s) 2.6520 Wilkes / Scottish ✗ (English)\n",
            "900000 90% (27m 5s) 0.3283 Campos / Portuguese ✓\n",
            "905000 90% (27m 14s) 0.4442 Gomes / Portuguese ✓\n",
            "910000 91% (27m 23s) 2.6693 Loh / Korean ✗ (Chinese)\n",
            "915000 91% (27m 32s) 2.8516 Rumisek / Polish ✗ (Czech)\n",
            "920000 92% (27m 40s) 0.8066 Pasternak / Polish ✓\n",
            "925000 92% (27m 49s) 0.1034 Mackenzie / Scottish ✓\n",
            "930000 93% (27m 58s) 0.1010 Di antonio / Italian ✓\n",
            "935000 93% (28m 6s) 0.3311 Sobol / Polish ✓\n",
            "940000 94% (28m 15s) 2.7521 Samaha / Japanese ✗ (Arabic)\n",
            "945000 94% (28m 24s) 0.0103 Srpcikova / Czech ✓\n",
            "950000 95% (28m 33s) 2.2972 Collins / Greek ✗ (English)\n",
            "955000 95% (28m 42s) 0.3124 Doan / Vietnamese ✓\n",
            "960000 96% (28m 51s) 0.7874 Ocaskova / Czech ✓\n",
            "965000 96% (29m 0s) 1.8822 Duncan / Irish ✗ (Scottish)\n",
            "970000 97% (29m 9s) 2.0099 Salazar / Arabic ✗ (Spanish)\n",
            "975000 97% (29m 18s) 0.1333 Hadad / Arabic ✓\n",
            "980000 98% (29m 27s) 0.4730 Warburton / English ✓\n",
            "985000 98% (29m 36s) 1.4373 Peisar / Czech ✓\n",
            "990000 99% (29m 45s) 1.5549 Meisner / German ✓\n",
            "995000 99% (29m 53s) 0.9775 Strange / English ✓\n",
            "1000000 100% (30m 3s) 0.6746 Giang / Vietnamese ✓\n"
          ],
          "name": "stdout"
        }
      ]
    },
    {
      "cell_type": "markdown",
      "metadata": {
        "id": "m9ni35BpuJCF",
        "colab_type": "text"
      },
      "source": [
        "Plotting the Results\n",
        "--------------------\n",
        "\n",
        "Plotting the historical loss from ``all_losses`` shows the network\n",
        "learning:\n",
        "\n",
        "\n"
      ]
    },
    {
      "cell_type": "code",
      "metadata": {
        "id": "TQ4yw0URuJCG",
        "colab_type": "code",
        "outputId": "c6547c1e-7c54-435e-b5ec-fecf9d908ae4",
        "colab": {
          "base_uri": "https://localhost:8080/",
          "height": 285
        }
      },
      "source": [
        "import matplotlib.pyplot as plt\n",
        "import matplotlib.ticker as ticker\n",
        "\n",
        "plt.figure()\n",
        "plt.plot(all_losses)"
      ],
      "execution_count": 14,
      "outputs": [
        {
          "output_type": "execute_result",
          "data": {
            "text/plain": [
              "[<matplotlib.lines.Line2D at 0x7f8d0d049d68>]"
            ]
          },
          "metadata": {
            "tags": []
          },
          "execution_count": 14
        },
        {
          "output_type": "display_data",
          "data": {
            "image/png": "[encoded data removed]",
            "text/plain": [
              "<Figure size 432x288 with 1 Axes>"
            ]
          },
          "metadata": {
            "tags": [],
            "needs_background": "light"
          }
        }
      ]
    },
    {
      "cell_type": "markdown",
      "metadata": {
        "id": "xrF3wjRHuJCJ",
        "colab_type": "text"
      },
      "source": [
        "Evaluating the Results\n",
        "======================\n",
        "\n",
        "To see how well the network performs on different categories, we will\n",
        "create a confusion matrix, indicating for every actual language (rows)\n",
        "which language the network guesses (columns). To calculate the confusion\n",
        "matrix a bunch of samples are run through the network with\n",
        "``evaluate()``, which is the same as ``train()`` minus the backprop.\n",
        "\n",
        "\n"
      ]
    },
    {
      "cell_type": "code",
      "metadata": {
        "id": "d244uzCluJCK",
        "colab_type": "code",
        "outputId": "343cc9c2-a995-4c8c-f9d6-f6649ba56101",
        "colab": {
          "base_uri": "https://localhost:8080/",
          "height": 320
        }
      },
      "source": [
        "# Keep track of correct guesses in a confusion matrix\n",
        "confusion = torch.zeros(n_categories, n_categories)\n",
        "n_confusion = 10000\n",
        "\n",
        "# Just return an output given a line\n",
        "def evaluate(line_tensor):\n",
        "    hidden = rnn.initHidden()\n",
        "\n",
        "    for i in range(line_tensor.size()[0]):\n",
        "        output, hidden = rnn(line_tensor[i], hidden)\n",
        "\n",
        "    return output\n",
        "\n",
        "# Go through a bunch of examples and record which are correctly guessed\n",
        "for i in range(n_confusion):\n",
        "    category, line, category_tensor, line_tensor = randomTrainingExample()\n",
        "    output = evaluate(line_tensor)\n",
        "    guess, guess_i = categoryFromOutput(output)\n",
        "    category_i = all_categories.index(category)\n",
        "    confusion[category_i][guess_i] += 1\n",
        "\n",
        "# Normalize by dividing every row by its sum\n",
        "for i in range(n_categories):\n",
        "    confusion[i] = confusion[i] / confusion[i].sum()\n",
        "\n",
        "# Set up plot\n",
        "fig = plt.figure()\n",
        "ax = fig.add_subplot(111)\n",
        "cax = ax.matshow(confusion.numpy())\n",
        "fig.colorbar(cax)\n",
        "\n",
        "# Set up axes\n",
        "ax.set_xticklabels([''] + all_categories, rotation=90)\n",
        "ax.set_yticklabels([''] + all_categories)\n",
        "\n",
        "# Force label at every tick\n",
        "ax.xaxis.set_major_locator(ticker.MultipleLocator(1))\n",
        "ax.yaxis.set_major_locator(ticker.MultipleLocator(1))\n",
        "\n",
        "# sphinx_gallery_thumbnail_number = 2\n",
        "plt.show()"
      ],
      "execution_count": 15,
      "outputs": [
        {
          "output_type": "display_data",
          "data": {
            "image/png": "[encoded data removed]",
            "text/plain": [
              "<Figure size 432x288 with 2 Axes>"
            ]
          },
          "metadata": {
            "tags": [],
            "needs_background": "light"
          }
        }
      ]
    },
    {
      "cell_type": "markdown",
      "metadata": {
        "id": "S2fm-sVLuJCN",
        "colab_type": "text"
      },
      "source": [
        "You can pick out bright spots off the main axis that show which\n",
        "languages it guesses incorrectly, e.g. Chinese for Korean, and Spanish\n",
        "for Italian. It seems to do very well with Greek, and very poorly with\n",
        "English (perhaps because of overlap with other languages).\n",
        "\n",
        "\n"
      ]
    },
    {
      "cell_type": "markdown",
      "metadata": {
        "id": "vsJ_t8UruJCO",
        "colab_type": "text"
      },
      "source": [
        "Running on User Input\n",
        "---------------------\n",
        "\n",
        "\n"
      ]
    },
    {
      "cell_type": "code",
      "metadata": {
        "id": "cJzmRps6uJCP",
        "colab_type": "code",
        "outputId": "624d8e20-2492-44b4-e1fc-0883a0694c75",
        "colab": {
          "base_uri": "https://localhost:8080/",
          "height": 357
        }
      },
      "source": [
        "def predict(input_line, n_predictions=3):\n",
        "    print('\\n> %s' % input_line)\n",
        "    with torch.no_grad():\n",
        "        output = evaluate(lineToTensor(input_line))\n",
        "\n",
        "        # Get top N categories\n",
        "        topv, topi = output.topk(n_predictions, 1, True)\n",
        "        predictions = []\n",
        "\n",
        "        for i in range(n_predictions):\n",
        "            value = topv[0][i].item()\n",
        "            category_index = topi[0][i].item()\n",
        "            print('(%.2f) %s' % (value, all_categories[category_index]))\n",
        "            predictions.append([value, all_categories[category_index]])\n",
        "\n",
        "predict('Ram')\n",
        "predict('Maansingh')\n",
        "predict('Punit')\n",
        "predict('Gurmit')"
      ],
      "execution_count": 16,
      "outputs": [
        {
          "output_type": "stream",
          "text": [
            "\n",
            "> Ram\n",
            "(-1.09) Chinese\n",
            "(-1.39) Korean\n",
            "(-1.92) Indian\n",
            "\n",
            "> Maansingh\n",
            "(-1.62) Arabic\n",
            "(-1.66) Czech\n",
            "(-1.67) Dutch\n",
            "\n",
            "> Punit\n",
            "(-0.90) Indian\n",
            "(-1.39) Russian\n",
            "(-1.95) French\n",
            "\n",
            "> Gurmit\n",
            "(-0.37) French\n",
            "(-2.21) Indian\n",
            "(-2.77) Scottish\n"
          ],
          "name": "stdout"
        }
      ]
    },
    {
      "cell_type": "markdown",
      "metadata": {
        "id": "3Y6Fb2a3uJCT",
        "colab_type": "text"
      },
      "source": [
        "The final versions of the scripts `in the Practical PyTorch\n",
        "repo <https://github.com/spro/practical-pytorch/tree/master/char-rnn-classification>`__\n",
        "split the above code into a few files:\n",
        "\n",
        "-  ``data.py`` (loads files)\n",
        "-  ``model.py`` (defines the RNN)\n",
        "-  ``train.py`` (runs training)\n",
        "-  ``predict.py`` (runs ``predict()`` with command line arguments)\n",
        "-  ``server.py`` (serve prediction as a JSON API with bottle.py)\n",
        "\n",
        "Run ``train.py`` to train and save the network.\n",
        "\n",
        "Run ``predict.py`` with a name to view predictions:\n",
        "\n",
        "::\n",
        "\n",
        "    $ python predict.py Hazaki\n",
        "    (-0.42) Japanese\n",
        "    (-1.39) Polish\n",
        "    (-3.51) Czech\n",
        "\n",
        "Run ``server.py`` and visit http://localhost:5533/Yourname to get JSON\n",
        "output of predictions.\n",
        "\n",
        "\n"
      ]
    },
    {
      "cell_type": "markdown",
      "metadata": {
        "id": "9yk2ESFguJCU",
        "colab_type": "text"
      },
      "source": [
        "Exercises\n",
        "=========\n",
        "\n",
        "-  Try with a different dataset of line -> category, for example:\n",
        "\n",
        "   -  Any word -> language\n",
        "   -  First name -> gender\n",
        "   -  Character name -> writer\n",
        "   -  Page title -> blog or subreddit\n",
        "\n",
        "-  Get better results with a bigger and/or better shaped network\n",
        "\n",
        "   -  Add more linear layers\n",
        "   -  Try the ``nn.LSTM`` and ``nn.GRU`` layers\n",
        "   -  Combine multiple of these RNNs as a higher level network\n",
        "\n",
        "\n"
      ]
    }
  ]
}